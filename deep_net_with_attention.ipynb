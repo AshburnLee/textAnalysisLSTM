{
 "cells": [
  {
   "cell_type": "code",
   "execution_count": 1,
   "metadata": {
    "scrolled": true
   },
   "outputs": [
    {
     "name": "stderr",
     "output_type": "stream",
     "text": [
      "Using TensorFlow backend.\n"
     ]
    }
   ],
   "source": [
    "import os\n",
    "import re\n",
    "import csv\n",
    "import codecs\n",
    "import numpy as np\n",
    "import pandas as pd\n",
    "\n",
    "from nltk.corpus import stopwords\n",
    "from nltk.stem import SnowballStemmer\n",
    "from nltk.tokenize import word_tokenize\n",
    "from string import punctuation\n",
    "from keras.preprocessing.text import Tokenizer\n",
    "from keras.preprocessing.sequence import pad_sequences\n",
    "\n",
    "from gensim.models import KeyedVectors\n",
    "from keras.layers import Dense, Input, LSTM, Embedding, Dropout, Activation\n",
    "from keras.layers.merge import concatenate\n",
    "from keras.models import Model\n",
    "from keras.layers.normalization import BatchNormalization\n",
    "from keras.callbacks import EarlyStopping, ModelCheckpoint\n",
    "\n",
    "from tqdm import tqdm\n",
    "import sys"
   ]
  },
  {
   "cell_type": "code",
   "execution_count": 2,
   "metadata": {
    "collapsed": true
   },
   "outputs": [],
   "source": [
    "'''\n",
    "read dataset, \n",
    "and get the 'comment_text' column,\n",
    "create a stop_words instance, which is a set()\n",
    "'''\n",
    "#stemmer = SnowballStemmer('english')  # did not use stemmer\n",
    "stop_words = set(stopwords.words(\"english\"))   # set()\n",
    "\n",
    "# read raw file:  -> DataFrame\n",
    "train_set = pd.read_csv(\"./train.csv\")\n",
    "#train_set.head()\n",
    "test_set = pd.read_csv(\"./test.csv\")\n",
    "#test_set.head()\n",
    "\n",
    "# get the 'comment column':\n",
    "#train_text = train_set[\"comment_text\"]\n",
    "#test_text = test_set[\"comment_text\"]\n",
    "train_text = train_set.loc[:,\"comment_text\"]\n",
    "test_text = test_set.loc[:,\"comment_text\"]"
   ]
  },
  {
   "cell_type": "code",
   "execution_count": 3,
   "metadata": {
    "collapsed": true
   },
   "outputs": [],
   "source": [
    "'''\n",
    "get the labels from training set: y,\n",
    "get each comment from all dataset,\n",
    "'''\n",
    "\n",
    "# get the comment in ndarrays and clean it:\n",
    "# Get labels arrays & train array:\n",
    "labels_list = [\"toxic\", \"severe_toxic\", \"obscene\", \"threat\", \"insult\", \"identity_hate\"]\n",
    "get_labels = train_set[labels_list]  #-> DataFrame\n",
    "y = get_labels.values  #-> ndarray -> (159571,6)\n",
    "\n",
    "\n",
    "train_array = train_set[\"comment_text\"].values  # -> ndarray  (159571,)\n",
    "test_array = test_set[\"comment_text\"].values   # -> ndarray  (153164,)"
   ]
  },
  {
   "cell_type": "code",
   "execution_count": 4,
   "metadata": {},
   "outputs": [
    {
     "data": {
      "text/plain": [
       "\"Explanation\\nWhy the edits made under my username Hardcore Metallica Fan were reverted? They weren't vandalisms, just closure on some GAs after I voted at New York Dolls FAC. And please don't remove the template from the talk page since I'm retired now.89.205.38.27\""
      ]
     },
     "execution_count": 4,
     "metadata": {},
     "output_type": "execute_result"
    }
   ],
   "source": [
    "train_array[0]\n"
   ]
  },
  {
   "cell_type": "code",
   "execution_count": null,
   "metadata": {
    "collapsed": true
   },
   "outputs": [],
   "source": []
  },
  {
   "cell_type": "code",
   "execution_count": 5,
   "metadata": {
    "collapsed": true
   },
   "outputs": [],
   "source": [
    "'''\n",
    "create a fucntion to clean all comments,\n",
    "create two empty lists.\n",
    "'''\n",
    "# A list to store cleaned text\n",
    "train_cleaned_comment_list = [] \n",
    "test_cleaned_comment_list = []\n",
    "\n",
    "\n",
    "# set one peise of comment as para\n",
    "def clean_comment(comment):\n",
    "    # remove anything that are not words\n",
    "    re_train = str(re.sub(\"[^a-zA-Z]\",\" \", comment))\n",
    "    #print(retrain)\n",
    "    \n",
    "    # \n",
    "    tokened_train = word_tokenize(re_train.lower())\n",
    "    #print(tokened_train)\n",
    "    \n",
    "    # remove stop_words that have not contribution to the meaning\n",
    "    stoped_train = [_ for _ in tokened_train if _ not in stop_words]\n",
    "    #print(stoped_train)\n",
    "    \n",
    "    # connect words as a string\n",
    "    stoped_train_str = \" \".join(stoped_train) # -> string\n",
    "    \n",
    "    return stoped_train_str"
   ]
  },
  {
   "cell_type": "code",
   "execution_count": 6,
   "metadata": {},
   "outputs": [
    {
     "name": "stderr",
     "output_type": "stream",
     "text": [
      "100%|██████████| 159571/159571 [00:53<00:00, 2996.05it/s]\n",
      "  0%|          | 301/153164 [00:00<00:50, 3007.74it/s]"
     ]
    },
    {
     "name": "stdout",
     "output_type": "stream",
     "text": [
      "The length of the list(train):  159571\n",
      "The number of commnents(train):  159571\n"
     ]
    },
    {
     "name": "stderr",
     "output_type": "stream",
     "text": [
      "100%|██████████| 153164/153164 [00:47<00:00, 3198.42it/s]"
     ]
    },
    {
     "name": "stdout",
     "output_type": "stream",
     "text": [
      "The length of the list(test):  153164\n",
      "The number of commnents(test):  153164\n"
     ]
    },
    {
     "name": "stderr",
     "output_type": "stream",
     "text": [
      "\n"
     ]
    }
   ],
   "source": [
    "'''\n",
    "Input cleaned data into lists and files\n",
    "'''\n",
    "# write to filess\n",
    "count = 0\n",
    "my_file = open('./cleaned_train_comment.csv','w')\n",
    "for _ in tqdm(train_array):\n",
    "    i = clean_comment(_)\n",
    "    #print(i)\n",
    "    train_cleaned_comment_list.append(i)\n",
    "    my_file.write(i)\n",
    "    my_file.write('\\n')\n",
    "    count+=1\n",
    "my_file.close()\n",
    "print(\"The length of the list(train): \",len(train_cleaned_comment_list))\n",
    "print(\"The number of commnents(train): \", count)\n",
    "\n",
    "\n",
    "count = 0\n",
    "my_file = open('./cleaned_test_comment.csv','w')\n",
    "for _ in tqdm(test_array):\n",
    "    i = clean_comment(_)\n",
    "    #print(i)\n",
    "    test_cleaned_comment_list.append(i)\n",
    "    my_file.write(i)\n",
    "    my_file.write('\\n')\n",
    "    count+=1\n",
    "my_file.close()\n",
    "print(\"The length of the list(test): \",len(test_cleaned_comment_list))\n",
    "print(\"The number of commnents(test): \", count)"
   ]
  },
  {
   "cell_type": "code",
   "execution_count": null,
   "metadata": {
    "collapsed": true
   },
   "outputs": [],
   "source": []
  },
  {
   "cell_type": "code",
   "execution_count": 7,
   "metadata": {
    "collapsed": true
   },
   "outputs": [],
   "source": [
    "'''\n",
    "For testing: 1000 data for testing\n",
    "'''\n",
    "\n",
    "#train_cleaned_comment_list = train_cleaned_comment_list[0:1000] \n",
    "#y = y[0:1000]\n",
    "# test_cleaned_comment_list = test_cleaned_comment_list[0:1000]"
   ]
  },
  {
   "cell_type": "code",
   "execution_count": 8,
   "metadata": {},
   "outputs": [
    {
     "data": {
      "text/plain": [
       "(153164, 1000)"
      ]
     },
     "execution_count": 8,
     "metadata": {},
     "output_type": "execute_result"
    }
   ],
   "source": [
    "len(train_cleaned_comment_list)\n",
    "len(test_cleaned_comment_list),len(y)"
   ]
  },
  {
   "cell_type": "code",
   "execution_count": 9,
   "metadata": {},
   "outputs": [
    {
     "name": "stdout",
     "output_type": "stream",
     "text": [
      "[629, 75, 51, 617, 4097, 7579, 1242, 301, 17234, 6013, 2302, 2499, 37, 1057, 15574, 2063, 8, 173, 254, 11, 3, 57, 4430]\n",
      "197276 unique words were found\n",
      "vec_train_data:  (1000, 100)\n",
      "vec_test_data:  (153164, 100)\n",
      "labels:  (1000, 6)\n"
     ]
    }
   ],
   "source": [
    "'''\n",
    "vectorization,\n",
    "extend each comments to the same length, set maxlen=100,\n",
    "* note that only 1000 of training and testing data are selected.\n",
    "'''\n",
    "# vecterization:\n",
    "\n",
    "# we take only top 100000 words\n",
    "#take only words with an index less or equal to 100000\n",
    "tokenizer = Tokenizer(num_words=100000)    \n",
    "\n",
    "#calculate every appeared words, and index them\n",
    "tokenizer.fit_on_texts(train_cleaned_comment_list + test_cleaned_comment_list)   \n",
    "\n",
    "# replace all the words with their index that created from fit_on_texts() \n",
    "train_sequences = tokenizer.texts_to_sequences(train_cleaned_comment_list)  \n",
    "test_sequences = tokenizer.texts_to_sequences(test_cleaned_comment_list)\n",
    "\n",
    "# for testing\n",
    "# print(train_cleaned_comment_list)\n",
    "print(train_sequences[0])  \n",
    "\n",
    "# every word has an index,\n",
    "# it is needed for embedding.\n",
    "word_index = tokenizer.word_index  # len() -> 14121 \n",
    "print(\"%d unique words were found\"%len(word_index))\n",
    "\n",
    "# extend or shrink every piece comment to the lenght 100\n",
    "vec_train_data = pad_sequences(train_sequences, maxlen=100)   # ->(1000, 100)\n",
    "print(\"vec_train_data: \",vec_train_data.shape)      \n",
    "\n",
    "vec_test_data = pad_sequences(test_sequences, maxlen=100)    # ->(1000, 100)\n",
    "print(\"vec_test_data: \",vec_test_data.shape)\n",
    "print(\"labels: \",y.shape)"
   ]
  },
  {
   "cell_type": "code",
   "execution_count": null,
   "metadata": {
    "collapsed": true
   },
   "outputs": [],
   "source": [
    "# storing these output\n",
    "'''\n",
    "###\n",
    "# Put vectorizing comments into and files\n",
    "###\n",
    "\n",
    "# write to filess\n",
    "count = 0\n",
    "my_file = open('./vec_train_comment.csv','w')\n",
    "for _ in tqdm(vec_train_data):\n",
    "    my_file.write(str(_))\n",
    "    my_file.write('\\n\\n\\n')\n",
    "    count+=1\n",
    "my_file.close()\n",
    "print(\"vec_train_data #: \", count)\n",
    "\n",
    "\n",
    "count = 0\n",
    "my_file = open('./vec_test_comment.csv','w')   \n",
    "for _ in tqdm(vec_test_data):\n",
    "    my_file.write(str(_))\n",
    "    my_file.write('\\n\\n\\n')\n",
    "    count+=1\n",
    "my_file.close()\n",
    "print(\"vec_test_data #: \", count)\n",
    "print(\"!\")\n",
    "'''"
   ]
  },
  {
   "cell_type": "code",
   "execution_count": 10,
   "metadata": {
    "collapsed": true
   },
   "outputs": [],
   "source": [
    "\"\"\"\n",
    "split data into training set and validation set\n",
    "\"\"\"\n",
    "\n",
    "# shuffle all samples:\n",
    "shuffle_data = np.random.permutation(len(vec_train_data))   #->(1000, )\n",
    "\n",
    "# get the indeces of train & val:\n",
    "index_data_train = shuffle_data[: int(len(vec_train_data) * 0.9)]  # -> (900,)\n",
    "index_data_val = shuffle_data[int(len(vec_train_data) * 0.9) :]    # -> (100,)\n",
    "\n",
    "# training data  \n",
    "final_data_train = vec_train_data[index_data_train]  # -> (0.9*, maxlen)           #   (^_^)\n",
    "labels_train = y[index_data_train]      # labels      #-> (0.9*, 6)                #   (^_^)\n",
    "\n",
    "#validation data\n",
    "final_data_val = vec_train_data[index_data_val]     #->(0.1, maxlen)            #  (^_^)\n",
    "labels_val = y[index_data_val]                     # ->(0.1, 6)                 #  (^_^)"
   ]
  },
  {
   "cell_type": "code",
   "execution_count": 20,
   "metadata": {},
   "outputs": [
    {
     "data": {
      "text/plain": [
       "(900,)"
      ]
     },
     "execution_count": 20,
     "metadata": {},
     "output_type": "execute_result"
    }
   ],
   "source": [
    "\n"
   ]
  },
  {
   "cell_type": "code",
   "execution_count": 11,
   "metadata": {},
   "outputs": [
    {
     "name": "stdout",
     "output_type": "stream",
     "text": [
      "final_train #:  900\n",
      "final_validation #:  100\n"
     ]
    }
   ],
   "source": [
    "'''\n",
    "Input train and validation data into and files with their LABELS!!!\n",
    "'''\n",
    "# write to files\n",
    "count = 0\n",
    "with open('./final_train.csv','w') as my_file:\n",
    "    for _, _1 in zip(final_data_train, labels_train):     # write labels into 'final_train.csv'\n",
    "        my_file.write(str(_))\n",
    "        my_file.write(str(_1))\n",
    "        my_file.write('\\n\\n\\n')\n",
    "        count+=1\n",
    "my_file.close()\n",
    "print(\"final_train #: \", count) \n",
    "\n",
    "\n",
    "count = 0\n",
    "with open('./final_validation.csv','w') as my_file:\n",
    "    for _, _1 in zip(final_data_val, labels_val):\n",
    "        my_file.write(str(_))\n",
    "        my_file.write(str(_1))\n",
    "        my_file.write('\\n\\n\\n')\n",
    "        count+=1\n",
    "my_file.close()\n",
    "print(\"final_validation #: \", count)"
   ]
  },
  {
   "cell_type": "code",
   "execution_count": 12,
   "metadata": {
    "collapsed": true
   },
   "outputs": [],
   "source": [
    "# What we need from above are :\n",
    "# vec_test_data            ->(1000,maxlen)\n",
    "# final_data_train         ->(0.9*, maxlen)\n",
    "# labels_train             ->(0.9*, 6)\n",
    "# final_data_val           ->(0.1*, maxlen)\n",
    "# labels_val               ->(0.1*, 6)"
   ]
  },
  {
   "cell_type": "code",
   "execution_count": 12,
   "metadata": {
    "collapsed": true
   },
   "outputs": [],
   "source": [
    "# parameters:\n",
    "# TRAIN_DATA_FILE = 'train.csv'\n",
    "# TEST_DATA_FILE = 'test.csv'\n",
    "\n",
    "MAX_SEQUENCE_LENGTH = 100\n",
    "MAX_NB_WORDS = 100000\n",
    "EMBEDDING_DIM = 300 \n",
    "#VALIDATION_SPLIT = 0.9\n",
    "\n",
    "num_lstm = 300\n",
    "num_dense = 256\n",
    "rate_drop_lstm = 0.25\n",
    "rate_drop_dense = 0.25"
   ]
  },
  {
   "cell_type": "code",
   "execution_count": 13,
   "metadata": {},
   "outputs": [
    {
     "name": "stderr",
     "output_type": "stream",
     "text": [
      "2196017it [01:45, 20762.86it/s]\n"
     ]
    }
   ],
   "source": [
    "# Embedding:\n",
    "embeddings_index = {}\n",
    "\n",
    "## https://nlp.stanford.edu/projects/glove/\n",
    "with open('../glove_matrix/glove.840B.300d.txt','rb') as f:\n",
    "    for line in tqdm(f):\n",
    "        values = line.split()\n",
    "        word = values[0]\n",
    "        coefs = np.asarray(values[1:], dtype='float32')\n",
    "        embeddings_index[word] = coefs      # -> 2196016\n",
    "f.close()\n",
    "\n",
    "\n",
    "# embeddings_index is a dict created by using 'glove_matrix'.\n",
    "# each 'key' in that dic has a 300D array as its 'value', which is generated by pre-training 'glove'"
   ]
  },
  {
   "cell_type": "code",
   "execution_count": 21,
   "metadata": {
    "collapsed": true
   },
   "outputs": [],
   "source": [
    "xx = list(embeddings_index.items() )    # len() 2196016"
   ]
  },
  {
   "cell_type": "code",
   "execution_count": 30,
   "metadata": {},
   "outputs": [
    {
     "data": {
      "text/plain": [
       "(b'proud', array([  1.17040001e-01,  -2.78840004e-03,  -2.43670009e-02,\n",
       "         -5.54220006e-02,   5.95059991e-01,  -2.40170002e-01,\n",
       "          5.70630014e-01,  -2.68220007e-01,  -1.82980001e-01,\n",
       "          2.44460011e+00,  -5.69869988e-02,  -7.23429993e-02,\n",
       "         -1.94299996e-01,  -4.10400003e-01,   1.55870005e-01,\n",
       "          2.94559985e-01,  -1.31139994e-01,   1.05300002e-01,\n",
       "         -1.52390003e-01,   3.91279995e-01,  -1.50100002e-02,\n",
       "         -6.86990023e-01,   1.39239997e-01,   2.54689991e-01,\n",
       "         -2.96530008e-01,  -9.79709998e-02,  -4.87399995e-01,\n",
       "         -2.47899994e-01,   1.23049997e-01,   2.10569993e-01,\n",
       "          1.52349994e-01,   6.14540018e-02,   1.58940002e-01,\n",
       "          1.69290006e-01,  -3.44119996e-01,  -1.31259993e-01,\n",
       "         -1.49320006e-01,   1.28169999e-01,  -3.30570012e-01,\n",
       "          1.65419996e-01,   1.33120000e-01,   1.96630001e-01,\n",
       "          3.83810014e-01,  -3.78840007e-02,   3.06380004e-01,\n",
       "         -2.43990004e-01,   2.53939986e-01,  -7.52289966e-02,\n",
       "          3.54369998e-01,   7.31649995e-02,  -1.66260004e-01,\n",
       "          7.83789977e-02,   5.61029986e-02,  -1.58130005e-01,\n",
       "          2.43709996e-01,   5.56429982e-01,  -3.26059997e-01,\n",
       "          5.09230018e-01,  -9.16889980e-02,  -5.79999983e-02,\n",
       "         -1.02069996e-01,  -5.09190023e-01,  -4.11229998e-01,\n",
       "         -7.35699981e-02,   1.23250000e-01,  -1.50110006e-01,\n",
       "          7.54000023e-02,  -1.87810004e-01,   4.72680002e-01,\n",
       "          3.60749997e-02,  -2.08690003e-01,  -1.44419998e-01,\n",
       "         -5.36589995e-02,   2.29369998e-02,   2.93720007e-01,\n",
       "          3.57080013e-01,   1.12039998e-01,   1.43769994e-01,\n",
       "         -7.22049996e-02,   3.68640006e-01,   1.83470007e-02,\n",
       "          4.14579988e-01,  -3.15770000e-01,   2.64999986e-01,\n",
       "          1.01779997e-01,  -7.82440007e-01,  -7.70020008e-01,\n",
       "          1.24480002e-01,  -3.56720001e-01,  -7.05970004e-02,\n",
       "         -5.10779977e-01,   6.32059991e-01,  -1.03940003e-01,\n",
       "          3.23139995e-01,  -4.27969992e-01,  -2.92249992e-02,\n",
       "         -5.53030014e-01,  -1.37040004e-01,  -8.14509988e-02,\n",
       "         -8.35940018e-02,   3.31569999e-01,  -2.60820001e-01,\n",
       "         -1.64969996e-01,   5.47950007e-02,   1.24559999e-01,\n",
       "          3.69630009e-01,   2.40209997e-01,  -1.46139994e-01,\n",
       "          6.76740035e-02,   4.05299999e-02,  -1.61630005e-01,\n",
       "          1.35609999e-01,   1.24519996e-01,  -1.04999997e-01,\n",
       "          1.38150007e-01,   1.07749999e-01,   6.19509995e-01,\n",
       "         -5.51129989e-02,  -2.22360000e-01,  -1.76880002e-01,\n",
       "          3.77909988e-01,  -2.98869997e-01,   3.14529985e-01,\n",
       "          4.07810003e-01,   7.31490016e-01,   1.19620003e-01,\n",
       "          1.28940001e-01,  -6.23310030e-01,  -4.42299992e-01,\n",
       "         -3.43470007e-01,  -2.00969994e-01,  -3.58179994e-02,\n",
       "         -9.02170002e-01,   4.30720001e-02,   4.52979989e-02,\n",
       "         -2.61799991e-01,  -2.63440013e-01,   2.07420006e-01,\n",
       "          4.05800015e-01,  -7.16620013e-02,  -1.31159997e+00,\n",
       "          3.25899988e-01,   4.34049994e-01,   2.70280004e-01,\n",
       "         -1.61219999e-01,  -2.71890014e-01,  -1.96659997e-01,\n",
       "          4.46300000e-01,  -1.68679997e-01,   9.88830030e-02,\n",
       "         -3.82999986e-01,   5.86300015e-01,  -6.63010031e-02,\n",
       "          5.05019985e-02,  -2.67859995e-01,   2.04689994e-01,\n",
       "         -3.34989995e-01,  -2.99809992e-01,   1.78409994e-01,\n",
       "         -2.02450007e-01,  -2.26769999e-01,  -7.90790021e-02,\n",
       "         -2.32199997e-01,   6.05770014e-02,   3.51999998e-01,\n",
       "         -2.08969995e-01,   2.10490003e-01,  -5.57690024e-01,\n",
       "         -4.48430002e-01,  -2.42899999e-01,  -2.68880010e-01,\n",
       "          5.49679995e-03,   1.00550003e-01,  -1.19400002e-01,\n",
       "         -3.77380013e-01,  -3.87809992e-01,  -3.17649990e-01,\n",
       "          2.30079994e-01,  -5.47479987e-01,   6.27210021e-01,\n",
       "          3.60659987e-01,   4.45519993e-03,  -5.23860008e-03,\n",
       "         -2.52579987e-01,  -2.55149990e-01,  -1.62560001e-01,\n",
       "          6.62100017e-02,   3.72189991e-02,   1.60030007e-01,\n",
       "         -1.13829998e-02,  -1.27979994e-01,  -3.36239994e-01,\n",
       "          5.35340011e-02,  -3.83520007e-01,   3.62159997e-01,\n",
       "          1.60140004e-02,   7.57539988e-01,  -3.18030000e-01,\n",
       "          4.05270010e-01,   1.07129999e-01,  -9.18390043e-03,\n",
       "          2.01759994e-01,   8.89649987e-02,  -7.18400031e-02,\n",
       "          8.69449973e-02,   3.93819988e-01,  -8.64669979e-02,\n",
       "          1.04839997e-02,  -2.48109996e-01,  -5.42940021e-01,\n",
       "         -6.17150009e-01,   9.44159999e-02,  -2.22539995e-02,\n",
       "          2.50660002e-01,   4.25130010e-01,   6.41910017e-01,\n",
       "          4.40690011e-01,  -1.93039998e-01,   1.66889995e-01,\n",
       "         -5.53259999e-02,  -2.84069985e-01,  -3.41949984e-02,\n",
       "          1.96590006e-01,  -1.66700006e-01,   5.17939985e-01,\n",
       "         -4.04170007e-01,   2.43250001e-02,   8.71540010e-02,\n",
       "         -3.12949985e-01,  -4.24740016e-02,   4.53209989e-02,\n",
       "         -2.25960001e-01,  -3.63750011e-01,  -7.14959996e-03,\n",
       "         -8.66480023e-02,  -3.44989985e-01,  -5.38160026e-01,\n",
       "         -2.83389986e-01,  -7.98550025e-02,   1.23410001e-01,\n",
       "          2.44320005e-01,   1.35700004e-02,   4.21640016e-02,\n",
       "          2.49890000e-01,   2.18319997e-01,   1.16260000e-01,\n",
       "         -1.33800000e-01,  -3.31800014e-01,  -1.53190002e-03,\n",
       "          5.12669981e-01,   2.91579992e-01,   2.56570011e-01,\n",
       "         -2.52559990e-01,  -7.40580037e-02,  -2.44650006e-01,\n",
       "         -2.61640012e-01,   2.42679998e-01,   3.12090009e-01,\n",
       "         -3.34890008e-01,   3.50050002e-01,   6.50049970e-02,\n",
       "          9.68720019e-02,  -1.40210003e-01,   1.64700001e-01,\n",
       "         -1.55570000e-01,  -1.26019999e-01,   2.16260001e-01,\n",
       "         -9.94310006e-02,   3.11390013e-01,   7.27999985e-01,\n",
       "          1.23860002e-01,  -1.93169996e-01,  -6.95519984e-01,\n",
       "          1.62489992e-02,  -1.22290002e-02,  -1.41880000e-02,\n",
       "          1.44439995e-01,   2.98200011e-01,  -5.64340018e-02,\n",
       "         -2.26669997e-01,   5.99509999e-02,   3.38739991e-01,\n",
       "         -2.23849993e-02,   5.44570029e-01,  -4.56290007e-01,\n",
       "         -2.76410013e-01,   2.07599998e-01,  -2.80750006e-01,\n",
       "          1.57649994e-01,   4.45859998e-01,  -3.38279992e-01,\n",
       "         -2.24830002e-01,  -4.60339993e-01,  -2.30820000e-01,\n",
       "          9.00140032e-02,   1.36250004e-01,   1.42649993e-01,\n",
       "          6.09639995e-02,  -1.65539995e-01,   1.51470006e-01], dtype=float32))"
      ]
     },
     "execution_count": 30,
     "metadata": {},
     "output_type": "execute_result"
    }
   ],
   "source": [
    "xx[2456]"
   ]
  },
  {
   "cell_type": "code",
   "execution_count": 32,
   "metadata": {},
   "outputs": [
    {
     "name": "stderr",
     "output_type": "stream",
     "text": [
      "100%|██████████| 197276/197276 [00:00<00:00, 638419.34it/s]\n"
     ]
    }
   ],
   "source": [
    "# then create an embedding_matrix, get the 10,000 words from the begining.\n",
    "# fill embedding_matrix with 'values': 300D arrays.\n",
    "\n",
    "nb_words = min(MAX_NB_WORDS, len(word_index))   #word_index from previous step\n",
    "embedding_matrix = np.zeros((nb_words + 1, EMBEDDING_DIM))   #-> (nb_words + 1, 300)\n",
    "\n",
    "# operation on each <key, value> in dict,\n",
    "for i, j in tqdm(word_index.items()):\n",
    "    if j >= MAX_NB_WORDS:     # 100000\n",
    "        continue\n",
    "    embedding_vector = embeddings_index.get(str.encode(i))\n",
    "    if embedding_vector is not None:\n",
    "        # words not found in embedding index will be all-zeros.\n",
    "        embedding_matrix[j] = embedding_vector    # shape -> (nb_words + 1, 300)\n"
   ]
  },
  {
   "cell_type": "code",
   "execution_count": 34,
   "metadata": {},
   "outputs": [
    {
     "data": {
      "text/plain": [
       "(100001, 300)"
      ]
     },
     "execution_count": 34,
     "metadata": {},
     "output_type": "execute_result"
    }
   ],
   "source": [
    "embedding_matrix.shape"
   ]
  },
  {
   "cell_type": "code",
   "execution_count": 40,
   "metadata": {},
   "outputs": [
    {
     "data": {
      "text/plain": [
       "array([ -4.92909998e-02,   2.04830006e-01,  -1.28079996e-01,\n",
       "        -8.66860002e-02,  -1.15840003e-01,  -6.31299987e-02,\n",
       "        -1.11879997e-01,  -1.54929996e-01,  -3.09139997e-01,\n",
       "         3.11120009e+00,  -6.20779991e-02,   8.04390013e-02,\n",
       "         5.18419981e-01,   2.87530005e-01,  -3.38719994e-01,\n",
       "        -1.45840004e-01,  -2.30550006e-01,   7.30069995e-01,\n",
       "        -3.83579999e-01,  -7.46319965e-02,   1.53029993e-01,\n",
       "         7.60390013e-02,   3.25049981e-02,  -4.00179997e-02,\n",
       "        -2.30660006e-01,   1.50299996e-01,  -2.42960006e-01,\n",
       "        -2.32030004e-01,   1.29319996e-01,  -1.65600002e-01,\n",
       "        -3.25379997e-01,   1.02640003e-01,   6.45380020e-02,\n",
       "         1.30840003e-01,  -1.54579999e-02,  -4.31160003e-01,\n",
       "        -5.69970012e-02,  -1.35749996e-01,  -2.85210013e-01,\n",
       "        -3.88619989e-01,  -1.21179998e-01,   3.91189992e-01,\n",
       "         1.14809997e-01,  -8.66649970e-02,   2.26129994e-01,\n",
       "        -2.20759995e-02,  -2.51870006e-01,  -2.18410000e-01,\n",
       "        -1.24140002e-01,   1.35189995e-01,  -1.39809996e-01,\n",
       "        -1.18060000e-01,   1.25790000e-01,   3.29790004e-02,\n",
       "         4.77999985e-01,   2.79789995e-02,  -1.74600005e-01,\n",
       "        -1.68630004e-01,   2.01130006e-02,   1.48350000e-02,\n",
       "        -1.68950006e-01,  -1.50340006e-01,  -4.75010015e-02,\n",
       "         4.25900012e-01,   5.79949990e-02,  -3.67109999e-02,\n",
       "        -1.26540005e-01,  -3.86280008e-02,   1.44989997e-01,\n",
       "        -9.78830010e-02,   2.42420003e-01,   1.29439995e-01,\n",
       "         1.72859997e-01,  -1.42600000e-01,   1.98890001e-01,\n",
       "         4.20410000e-02,   1.58350006e-01,  -2.26459995e-01,\n",
       "         3.53990011e-02,   2.74910003e-01,  -1.30530000e-01,\n",
       "        -1.45249993e-01,  -1.03550002e-01,  -8.20130035e-02,\n",
       "         1.40770003e-01,  -1.16389997e-01,   2.33429998e-01,\n",
       "        -6.07429981e-01,   4.84629989e-01,  -1.60540000e-01,\n",
       "        -2.48209998e-01,  -1.32320002e-01,  -7.49970004e-02,\n",
       "         1.45160004e-01,   1.60569996e-01,  -8.25159997e-03,\n",
       "         1.49790004e-01,  -1.68310001e-01,   5.31780012e-02,\n",
       "         2.98130006e-01,  -3.69849987e-02,   2.01429993e-01,\n",
       "        -6.99110031e-02,  -5.10130003e-02,   1.61349997e-01,\n",
       "        -1.05270004e+00,   1.31990001e-01,  -1.74700007e-01,\n",
       "        -3.18679988e-01,   1.84799999e-01,   1.93670001e-02,\n",
       "        -1.42039999e-01,  -5.87580018e-02,  -7.24819973e-02,\n",
       "         2.94400007e-01,  -4.40099984e-02,   9.72890034e-02,\n",
       "        -3.06419998e-01,   1.10689998e-02,  -3.42309996e-02,\n",
       "         1.93179995e-01,  -1.76980004e-01,  -2.23040003e-02,\n",
       "        -1.58360004e-01,  -1.49790002e-02,   2.23700002e-01,\n",
       "         1.16669998e-01,  -2.63909996e-01,  -4.11639996e-02,\n",
       "         1.64320007e-01,   7.89050013e-02,   1.03249997e-01,\n",
       "        -7.95420036e-02,   2.37880006e-01,   1.68799996e-01,\n",
       "        -5.31949997e-02,  -1.18740000e-01,  -1.14940003e-01,\n",
       "         4.09619994e-02,  -3.37769999e-03,  -1.57099998e+00,\n",
       "         3.37350011e-01,   2.41689995e-01,  -2.85550002e-02,\n",
       "         2.62879997e-01,  -3.85809988e-01,  -2.73209989e-01,\n",
       "        -7.27619976e-02,   1.21849999e-01,  -2.43860006e-01,\n",
       "         8.11759979e-02,   8.46709982e-02,  -9.91439968e-02,\n",
       "         1.61709994e-01,  -1.13360003e-01,  -4.62179989e-01,\n",
       "         6.63009984e-03,  -6.09279983e-02,   2.90709995e-02,\n",
       "         2.24859998e-01,   7.32949972e-02,   1.05710000e-01,\n",
       "        -3.76670003e-01,  -2.19730005e-01,  -2.05679998e-01,\n",
       "        -1.71409994e-01,   1.51419997e-01,  -3.36459994e-01,\n",
       "         3.95130008e-01,   1.45889997e-01,  -3.03350011e-04,\n",
       "         1.24339998e-01,   3.36870015e-01,  -4.24470007e-01,\n",
       "         7.62289986e-02,   6.95419982e-02,   1.66749999e-01,\n",
       "         2.33630002e-01,   2.29560003e-01,  -1.63389996e-01,\n",
       "        -1.34289995e-01,   2.22680002e-01,  -3.34699988e-01,\n",
       "        -2.36080006e-01,  -1.90300003e-01,  -1.82280004e-01,\n",
       "        -1.91060007e-01,  -1.27250001e-01,  -1.37750003e-02,\n",
       "         4.49039996e-01,   1.43110007e-01,   3.28049988e-01,\n",
       "        -5.23720026e-01,  -6.93709999e-02,   2.28259996e-01,\n",
       "         7.86850005e-02,  -2.16209993e-01,  -2.35609993e-01,\n",
       "         1.73659995e-01,   1.99680001e-01,   2.62529999e-01,\n",
       "        -1.08879998e-01,  -9.32520032e-02,  -2.94470012e-01,\n",
       "         2.86489993e-01,   5.42949997e-02,  -6.80439994e-02,\n",
       "        -1.16760001e-01,   1.70959994e-01,   1.27079993e-01,\n",
       "         6.80069998e-02,  -2.31739998e-01,  -1.04709998e-01,\n",
       "        -2.22829998e-01,   2.10759997e-01,   1.92090005e-01,\n",
       "        -2.64840007e-01,   7.71619976e-02,  -1.84430003e-01,\n",
       "        -2.82269996e-02,   1.42440006e-01,   2.45830007e-02,\n",
       "         7.56070018e-02,   6.14660010e-02,  -6.44329982e-03,\n",
       "         1.23860002e-01,   2.08039992e-02,   5.34209982e-02,\n",
       "        -3.28009993e-01,  -1.19099997e-01,  -2.68559992e-01,\n",
       "        -1.47459999e-01,   1.71450004e-01,   1.07029997e-01,\n",
       "        -1.08230002e-01,  -6.69599995e-02,   6.95810020e-02,\n",
       "        -4.09310013e-01,  -7.09969997e-02,   5.27819991e-02,\n",
       "         1.40249997e-01,  -5.50430007e-02,   1.36059999e-01,\n",
       "         2.81029999e-01,   2.12960005e-01,  -3.89479995e-01,\n",
       "        -1.30510002e-01,  -1.21050000e-01,  -2.23470002e-01,\n",
       "         2.49660000e-01,   1.28279999e-02,  -2.94490010e-01,\n",
       "        -1.69650003e-01,   2.26949994e-02,  -1.42690003e-01,\n",
       "         1.51280001e-01,   1.92259997e-03,  -9.21140015e-02,\n",
       "        -4.07220013e-02,   7.19980001e-02,   2.10679993e-01,\n",
       "         3.09610009e-01,   3.17879999e-03,   2.61599988e-01,\n",
       "         2.66730011e-01,   3.07999998e-01,   1.18019998e-01,\n",
       "         1.29620001e-01,   2.64059991e-01,   3.90340000e-01,\n",
       "         5.14429986e-01,   1.09660000e-01,   1.53219998e-01,\n",
       "        -1.14540003e-01,  -2.67399997e-01,  -6.45740032e-02,\n",
       "        -1.08419999e-01,   1.01770004e-02,   6.08600006e-02,\n",
       "         1.50590003e-01,   1.74480006e-01,  -1.52319996e-02,\n",
       "         2.08460003e-01,   1.19280003e-01,  -1.25770003e-01,\n",
       "        -1.63230002e-01,   2.07259998e-01,   1.91479996e-01,\n",
       "         4.27110009e-02,   8.33609998e-02,  -2.36870006e-01,\n",
       "         2.26060003e-01,   1.17449999e-01,   8.38909969e-02,\n",
       "         1.50509998e-01,   1.11670002e-01,  -3.52840006e-01,\n",
       "        -2.85290003e-01,   3.37029994e-01,   1.23350002e-01])"
      ]
     },
     "execution_count": 40,
     "metadata": {},
     "output_type": "execute_result"
    }
   ],
   "source": [
    "embedding_matrix[5,:]"
   ]
  },
  {
   "cell_type": "code",
   "execution_count": 41,
   "metadata": {
    "collapsed": true
   },
   "outputs": [],
   "source": [
    "## https://arxiv.org/abs/1512.08756\n",
    "from attention import Attention   # Attention is a class"
   ]
  },
  {
   "cell_type": "code",
   "execution_count": 20,
   "metadata": {},
   "outputs": [
    {
     "data": {
      "text/plain": [
       "\"\\nkeras.layers.Embedding(input_dim,      # Size of the vocabulary, i.e. maximum integer index + 1.\\n                       output_dim,     # Dimension of the dense embedding\\n                       embeddings_initializer='uniform', \\n                       embeddings_regularizer=None, \\n                       activity_regularizer=None, \\n                       embeddings_constraint=None, \\n                       mask_zero=False, \\n                       input_length=None)   #Length of input sequences,\\n\""
      ]
     },
     "execution_count": 20,
     "metadata": {},
     "output_type": "execute_result"
    }
   ],
   "source": [
    "# define LSTM layer:\n",
    "# What is LSTM net:\n",
    "# To reduce the vanishing (and exploding) gradient problem, \n",
    "# and therefore allow deeper networks and recurrent neural networks to perform well in practical settings, \n",
    "# there needs to be a way to reduce the multiplication of gradients which are less than zero. \n",
    "# The LSTM cell is a specifically designed unit of logic \n",
    "# that will help reduce the vanishing gradient problem sufficiently \n",
    "# to make recurrent neural networks more useful for long-term memory tasks.\n",
    "\n",
    "# num_lstm 300\n",
    "# rate_drop_lstm 0.25\n",
    "# definition of keras.layers.LSTM()\n",
    "'''\n",
    "keras.layers.LSTM(units,                 # output dimention\n",
    "                  activation='tanh', \n",
    "                  recurrent_activation='hard_sigmoid', \n",
    "                  use_bias=True, \n",
    "                  kernel_initializer='glorot_uniform', \n",
    "                  recurrent_initializer='orthogonal', \n",
    "                  bias_initializer='zeros', \n",
    "                  unit_forget_bias=True, \n",
    "                  kernel_regularizer=None, \n",
    "                  recurrent_regularizer=None, \n",
    "                  bias_regularizer=None, \n",
    "                  activity_regularizer=None, \n",
    "                  kernel_constraint=None, \n",
    "                  recurrent_constraint=None, \n",
    "                  bias_constraint=None, \n",
    "                  dropout=0.0,           # Fraction of the units to drop for the linear transformation of the inputs.\n",
    "                  recurrent_dropout=0.0, #  Fraction of the units to drop for the linear transformation of the recurrent state.\n",
    "                  implementation=1, \n",
    "                  return_sequences=False,   #Boolean. Whether to return the last output. in the output sequence, or the full sequence.\n",
    "                  return_state=False, \n",
    "                  go_backwards=False, \n",
    "                  stateful=False, \n",
    "                  unroll=False)\n",
    "'''\n",
    "'''\n",
    "keras.layers.Embedding(input_dim,      # Size of the vocabulary, i.e. maximum integer index + 1.\n",
    "                       output_dim,     # Dimension of the dense embedding\n",
    "                       embeddings_initializer='uniform', \n",
    "                       embeddings_regularizer=None, \n",
    "                       activity_regularizer=None, \n",
    "                       embeddings_constraint=None, \n",
    "                       mask_zero=False, \n",
    "                       input_length=None)   #Length of input sequences,\n",
    "'''"
   ]
  },
  {
   "cell_type": "code",
   "execution_count": 42,
   "metadata": {
    "collapsed": true
   },
   "outputs": [],
   "source": [
    "'''\n",
    "define embedding layer & lstm layer:\n",
    "'''\n",
    "# embedding_matrix is used here!\n",
    "embedding_layer = Embedding(input_dim=embedding_matrix.shape[0],    # input_dim = nb_words + 1 \n",
    "                            output_dim=embedding_matrix.shape[1],    # output_dim = 300\n",
    "                            weights=[embedding_matrix],   # weight -> [(nb_words + 1, 300)]\n",
    "                            input_length=100,             #\n",
    "                            trainable=False)\n",
    "\n",
    "# LSTM layer:\n",
    "## http://www.bioinf.jku.at/publications/older/2604.pdf\n",
    "lstm_layer = LSTM(num_lstm,   # 300 \n",
    "                  dropout=rate_drop_lstm,   # 0.25\n",
    "                  recurrent_dropout=rate_drop_lstm,\n",
    "                  return_sequences=True)"
   ]
  },
  {
   "cell_type": "code",
   "execution_count": 35,
   "metadata": {},
   "outputs": [
    {
     "data": {
      "text/plain": [
       "100001"
      ]
     },
     "execution_count": 35,
     "metadata": {},
     "output_type": "execute_result"
    }
   ],
   "source": [
    "embedding_matrix.shape[0]"
   ]
  },
  {
   "cell_type": "code",
   "execution_count": 43,
   "metadata": {
    "collapsed": true,
    "scrolled": false
   },
   "outputs": [],
   "source": [
    "'''\n",
    "Construct our deep net\n",
    "'''\n",
    "\n",
    "comment_input = Input(shape=(MAX_SEQUENCE_LENGTH,), dtype='int32')  #(100,) ->> (?,100)\n",
    "x = embedding_layer(comment_input)                                  #(?, 100)->> (?, 100, 300)\n",
    "x = lstm_layer(x)                                                   #(?, 100,300) ->> (?,?,300)\n",
    "x = Dropout(rate_drop_dense)(x)                                     #(?,?,300) ->> (?,?,300)\n",
    "x = Attention(MAX_SEQUENCE_LENGTH)(x)                               #(?,?,300) ->> (?,300)\n",
    "# num_dense = 256\n",
    "x = Dense(num_dense, activation='relu')(x)                          #(?,300) ->> (?,256)\n",
    "x = Dropout(rate_drop_dense)(x)                                     #(?,256) ->> (?,256)\n",
    "## https://arxiv.org/abs/1502.03167\n",
    "x = BatchNormalization()(x)                                         #(?,256) ->> (?,256)\n",
    "preds = Dense(6, activation='sigmoid')(x)                           #(?,256) ->> (?,6)"
   ]
  },
  {
   "cell_type": "code",
   "execution_count": 44,
   "metadata": {},
   "outputs": [
    {
     "name": "stdout",
     "output_type": "stream",
     "text": [
      "_________________________________________________________________\n",
      "Layer (type)                 Output Shape              Param #   \n",
      "=================================================================\n",
      "input_1 (InputLayer)         (None, 100)               0         \n",
      "_________________________________________________________________\n",
      "embedding_1 (Embedding)      (None, 100, 300)          30000300  \n",
      "_________________________________________________________________\n",
      "lstm_1 (LSTM)                (None, 100, 300)          721200    \n",
      "_________________________________________________________________\n",
      "dropout_1 (Dropout)          (None, 100, 300)          0         \n",
      "_________________________________________________________________\n",
      "attention_1 (Attention)      (None, 300)               400       \n",
      "_________________________________________________________________\n",
      "dense_1 (Dense)              (None, 256)               77056     \n",
      "_________________________________________________________________\n",
      "dropout_2 (Dropout)          (None, 256)               0         \n",
      "_________________________________________________________________\n",
      "batch_normalization_1 (Batch (None, 256)               1024      \n",
      "_________________________________________________________________\n",
      "dense_2 (Dense)              (None, 6)                 1542      \n",
      "=================================================================\n",
      "Total params: 30,801,522\n",
      "Trainable params: 800,710\n",
      "Non-trainable params: 30,000,812\n",
      "_________________________________________________________________\n",
      "None\n"
     ]
    }
   ],
   "source": [
    "# instantiate a Model:\n",
    "model = Model(inputs=[comment_input],   \n",
    "              outputs=preds)     # (?,100) ->> (?,6)\n",
    "\n",
    "# configure the learning process:\n",
    "model.compile(loss='binary_crossentropy',\n",
    "        optimizer='rmsprop',\n",
    "        metrics=['accuracy'])\n",
    "\n",
    "print(model.summary())"
   ]
  },
  {
   "cell_type": "code",
   "execution_count": 45,
   "metadata": {},
   "outputs": [
    {
     "name": "stdout",
     "output_type": "stream",
     "text": [
      "simple_lstm_glove_vectors_0.25_0.25\n"
     ]
    }
   ],
   "source": [
    "\n",
    "\n",
    "STAMP = 'simple_lstm_glove_vectors_%.2f_%.2f'%(rate_drop_lstm,rate_drop_dense)\n",
    "print(STAMP)\n",
    "\n",
    "# define: early_stop, model_checkpoint:\n",
    "early_stopping =EarlyStopping(monitor='val_loss', patience=5)\n",
    "bst_model_path = STAMP + '.h5'\n",
    "model_checkpoint = ModelCheckpoint(bst_model_path, save_best_only=True, save_weights_only=True)\n"
   ]
  },
  {
   "cell_type": "code",
   "execution_count": 46,
   "metadata": {},
   "outputs": [
    {
     "name": "stdout",
     "output_type": "stream",
     "text": [
      "Train on 900 samples, validate on 100 samples\n",
      "Epoch 1/3\n",
      "900/900 [==============================] - 14s 15ms/step - loss: 0.7417 - acc: 0.4969 - val_loss: 0.6944 - val_acc: 0.6200\n",
      "Epoch 2/3\n",
      "900/900 [==============================] - 13s 14ms/step - loss: 0.6613 - acc: 0.6556 - val_loss: 0.6528 - val_acc: 0.7783\n",
      "Epoch 3/3\n",
      "900/900 [==============================] - 12s 14ms/step - loss: 0.6124 - acc: 0.8187 - val_loss: 0.5519 - val_acc: 0.9200\n"
     ]
    }
   ],
   "source": [
    "# training : data_train, labels_train, data_val, labels_val!!!\n",
    "hist = model.fit(final_data_train, labels_train, \n",
    "                 validation_data=(final_data_val, labels_val),   # this is validation data\n",
    "                 epochs=3, \n",
    "                 batch_size=256, \n",
    "                 shuffle=True,\n",
    "                 callbacks=[early_stopping, model_checkpoint])\n",
    "\n",
    "# loads the weights of the model from a HDF5 file (created by 'save_weights'). \n",
    "model.load_weights(bst_model_path)\n",
    "bst_val_score = min(hist.history['val_loss'])"
   ]
  },
  {
   "cell_type": "code",
   "execution_count": 47,
   "metadata": {
    "collapsed": true
   },
   "outputs": [],
   "source": [
    "# plot loss and accuracy:\n",
    "acc = np.array(hist.history['acc'])\n",
    "loss = np.array(hist.history['loss'])\n",
    "val_acc = np.array(hist.history['val_loss'])\n",
    "val_loss = np.array(hist.history['val_loss'])"
   ]
  },
  {
   "cell_type": "code",
   "execution_count": 48,
   "metadata": {},
   "outputs": [
    {
     "data": {
      "image/png": "[encoded data removed]",
      "text/plain": [
       "<matplotlib.figure.Figure at 0x7f9db1392e80>"
      ]
     },
     "metadata": {},
     "output_type": "display_data"
    }
   ],
   "source": [
    "import matplotlib.pyplot as plt\n",
    "\n",
    "x = np.linspace(1,3,3)\n",
    "lines = plt.plot(x, acc, x, loss, x, val_acc, x, val_loss)\n",
    "plt.setp(lines[0], linewidth=1)\n",
    "plt.setp(lines[1], linewidth=2)\n",
    "plt.setp(lines[2], linewidth=3)\n",
    "plt.setp(lines[2], linewidth=4)\n",
    "plt.xlabel(\"epoch\")\n",
    "plt.ylabel(\"persent\")\n",
    "plt.legend((\"acc\",\"loss\",\"val_acc\",\"val_loss\"))\n",
    "plt.show()"
   ]
  },
  {
   "cell_type": "code",
   "execution_count": 49,
   "metadata": {},
   "outputs": [
    {
     "data": {
      "text/plain": [
       "<keras.layers.embeddings.Embedding at 0x7f9dd98e76d8>"
      ]
     },
     "execution_count": 49,
     "metadata": {},
     "output_type": "execute_result"
    }
   ],
   "source": [
    "model.layers[1]"
   ]
  },
  {
   "cell_type": "code",
   "execution_count": 50,
   "metadata": {},
   "outputs": [
    {
     "name": "stdout",
     "output_type": "stream",
     "text": [
      "153164/153164 [==============================] - 598s 4ms/step\n"
     ]
    }
   ],
   "source": [
    "# test_data \n",
    "y_test = model.predict([vec_test_data], batch_size=1024, verbose=1)   # ->(1000, 6)"
   ]
  },
  {
   "cell_type": "code",
   "execution_count": 54,
   "metadata": {},
   "outputs": [
    {
     "data": {
      "text/plain": [
       "array([[ 0.99999547,  0.92239422,  0.99958783,  0.1934948 ,  0.98634934,\n",
       "         0.70814669],\n",
       "       [ 0.37247682,  0.40909505,  0.3679679 ,  0.41509241,  0.34866887,\n",
       "         0.43134964],\n",
       "       [ 0.34887213,  0.40799153,  0.38453138,  0.41025808,  0.34266198,\n",
       "         0.44540566],\n",
       "       ..., \n",
       "       [ 0.37804866,  0.41520289,  0.37866133,  0.41064742,  0.37390634,\n",
       "         0.46482348],\n",
       "       [ 0.33972353,  0.39041695,  0.37619966,  0.47134393,  0.36521405,\n",
       "         0.4566921 ],\n",
       "       [ 0.61343443,  0.46266419,  0.51645678,  0.40656155,  0.5149222 ,\n",
       "         0.4582178 ]], dtype=float32)"
      ]
     },
     "execution_count": 54,
     "metadata": {},
     "output_type": "execute_result"
    }
   ],
   "source": [
    "y_test"
   ]
  },
  {
   "cell_type": "code",
   "execution_count": 39,
   "metadata": {
    "collapsed": true
   },
   "outputs": [],
   "source": [
    "with open('./y_test.csv','w') as f:\n",
    "    for _ in y_test:\n",
    "        f.write(str(_))\n",
    "        f.write(' ')\n",
    "        "
   ]
  },
  {
   "cell_type": "code",
   "execution_count": null,
   "metadata": {
    "collapsed": true
   },
   "outputs": [],
   "source": []
  },
  {
   "cell_type": "code",
   "execution_count": null,
   "metadata": {
    "collapsed": true
   },
   "outputs": [],
   "source": []
  },
  {
   "cell_type": "code",
   "execution_count": 52,
   "metadata": {
    "collapsed": true
   },
   "outputs": [],
   "source": [
    "# before submission, use whiole data seet, \n",
    "# submission:\n",
    "sample_submission = pd.read_csv(\"./sample_submission.csv\")\n",
    "sample_submission[labels_list] = y_test\n",
    "\n",
    "\n",
    "# write dataframe to .csv file: without index!\n",
    "sample_submission.to_csv('%.4f_'%(bst_val_score) + STAMP + '.csv', index=False)"
   ]
  },
  {
   "cell_type": "code",
   "execution_count": null,
   "metadata": {
    "collapsed": true
   },
   "outputs": [],
   "source": [
    "'''\n",
    "DataFrame.to_csv(path_or_buf=None, \n",
    "                 sep=', ', na_rep='', \n",
    "                 float_format=None, columns=None, \n",
    "                 header=True,       ## !!\n",
    "                 index=True,        ## !!\n",
    "                 index_label=None, \n",
    "                 mode='w', encoding=None, \n",
    "                 compression=None, quoting=None, \n",
    "                 quotechar='\"', line_terminator='\\n', \n",
    "                 chunksize=None, tupleize_cols=None, \n",
    "                 date_format=None, doublequote=True, \n",
    "                 escapechar=None, decimal='.')\n",
    "'''"
   ]
  },
  {
   "cell_type": "code",
   "execution_count": null,
   "metadata": {
    "collapsed": true
   },
   "outputs": [],
   "source": []
  },
  {
   "cell_type": "code",
   "execution_count": null,
   "metadata": {
    "collapsed": true
   },
   "outputs": [],
   "source": []
  },
  {
   "cell_type": "markdown",
   "metadata": {},
   "source": [
    "# Test area: "
   ]
  },
  {
   "cell_type": "code",
   "execution_count": 1,
   "metadata": {
    "collapsed": true
   },
   "outputs": [],
   "source": [
    "import numpy as np"
   ]
  },
  {
   "cell_type": "code",
   "execution_count": 9,
   "metadata": {
    "collapsed": true
   },
   "outputs": [],
   "source": [
    "a = [_ for _ in np.arange(1,10,1)]\n",
    "b = [i for i in np.arange(11,20,1)]\n",
    "c = []"
   ]
  },
  {
   "cell_type": "code",
   "execution_count": 10,
   "metadata": {
    "collapsed": true
   },
   "outputs": [],
   "source": [
    "f = open('./tmp.csv','w')\n",
    "count=0\n",
    "for i, j in zip(a,b):\n",
    "    f.write(str(i))\n",
    "    f.write(' ')\n",
    "    f.write(str(j))\n",
    "    f.write('\\n\\n')\n",
    "    count+=1\n",
    "f.close()"
   ]
  },
  {
   "cell_type": "code",
   "execution_count": null,
   "metadata": {
    "collapsed": true
   },
   "outputs": [],
   "source": [
    "# operatin on each <key, value> in dict:\n",
    "for i,j in dict.items():\n",
    "    #do something..."
   ]
  },
  {
   "cell_type": "code",
   "execution_count": 5,
   "metadata": {
    "collapsed": true
   },
   "outputs": [],
   "source": [
    "import pandas as pd\n",
    "import sys\n",
    "## after applying clean function,\n",
    "# read cleaned comment, only comment:\n",
    "# add attribute name\n",
    "data = pd.read_csv(\"./cleaned_train_comment.csv\",names=[\"comment_text\"])\n",
    "\n",
    "# keep it in the memory,\n",
    "## data.to_csv(\"./cleaned_train_comment.csv\",index=False)\n",
    "\n",
    "# read original file, replace \"comment_text\" with cleaned \"comment_text\"\n",
    "sample = pd.read_csv(\"./train.csv\")\n",
    "sample[\"comment_text\"] = data\n",
    "# finally write it to file\n",
    "sample.to_csv(\"./full_train_data.csv\",index=False)\n",
    "\n",
    "\n",
    "\n",
    "# get 1000 samples as train_1000.csv\n"
   ]
  },
  {
   "cell_type": "code",
   "execution_count": 4,
   "metadata": {},
   "outputs": [
    {
     "name": "stdout",
     "output_type": "stream",
     "text": [
      "/media/junhui/DATA/text_analysis/kaggle\r\n"
     ]
    }
   ],
   "source": [
    "import pandas as pd\n",
    "import sys\n",
    "\n",
    "train_path = sys.argv[1]          # cleaned comment\n",
    "ori_train_path = sys.argv[2]          # original training data file\n",
    "full_cleaned_path = sys.argv[3]   # file to store fully cleaned data \n",
    "\n",
    "def clean_comment(train_path):\n",
    "    data = pd.read_csv(train_path, names=[\"comment_text\"])\n",
    "\n",
    "    sample = pd.read_csv(ori_train_path)\n",
    "    sample[\"comment_text\"] = data\n",
    "    \n",
    "    sample.to_csv(full_cleaned_path, index=False)\n",
    "    "
   ]
  },
  {
   "cell_type": "code",
   "execution_count": 6,
   "metadata": {
    "collapsed": true
   },
   "outputs": [],
   "source": [
    "# choose 1000 piese of data:\n",
    "data = pd.read_csv(\"aaaa.csv\")\n",
    "data_1000 = data.loc[0:1000,:]\n",
    "data_1000.to_csv(\"./train_1000.csv\",index=False)"
   ]
  },
  {
   "cell_type": "code",
   "execution_count": 11,
   "metadata": {
    "collapsed": true
   },
   "outputs": [],
   "source": [
    "data = pd.read_csv(\"aabb.csv\")\n",
    "data_100 = data.loc[0:100,:]\n",
    "data_100.to_csv(\"./test_100.csv\",index=False)"
   ]
  },
  {
   "cell_type": "code",
   "execution_count": 10,
   "metadata": {
    "collapsed": true
   },
   "outputs": [],
   "source": []
  }
 ],
 "metadata": {
  "kernelspec": {
   "display_name": "Python 3",
   "language": "python",
   "name": "python3"
  },
  "language_info": {
   "codemirror_mode": {
    "name": "ipython",
    "version": 3
   },
   "file_extension": ".py",
   "mimetype": "text/x-python",
   "name": "python",
   "nbconvert_exporter": "python",
   "pygments_lexer": "ipython3",
   "version": "3.6.3"
  }
 },
 "nbformat": 4,
 "nbformat_minor": 2
}
